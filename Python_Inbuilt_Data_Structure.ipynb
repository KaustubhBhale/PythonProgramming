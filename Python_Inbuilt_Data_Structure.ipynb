{
 "cells": [
  {
   "cell_type": "code",
   "execution_count": 1,
   "id": "8bec2d1b-07d7-418a-b4f2-1fe969843c13",
   "metadata": {},
   "outputs": [
    {
     "name": "stdout",
     "output_type": "stream",
     "text": [
      "Welcome to the Student Grade Management System!\n",
      "\n",
      "1. Add Student\n",
      "2. Update Grade\n",
      "3. Display Grades\n",
      "4. Calculate Average\n",
      "5. Exit\n"
     ]
    },
    {
     "name": "stdin",
     "output_type": "stream",
     "text": [
      "\n",
      "Choose an option :  1\n",
      "Enter student's name:  Ajit\n",
      "Enter the marks in Maths for Ajit:  100\n",
      "Enter the marks in Physics for Ajit:  98\n",
      "Enter the marks in Chemistry for Ajit:  97\n"
     ]
    },
    {
     "name": "stdout",
     "output_type": "stream",
     "text": [
      "New Student record inserted successfully !\n",
      "\n",
      "1. Add Student\n",
      "2. Update Grade\n",
      "3. Display Grades\n",
      "4. Calculate Average\n",
      "5. Exit\n"
     ]
    },
    {
     "name": "stdin",
     "output_type": "stream",
     "text": [
      "\n",
      "Choose an option :  3\n",
      "Enter the student's name whose grade need to be display:  Ajit\n"
     ]
    },
    {
     "name": "stdout",
     "output_type": "stream",
     "text": [
      "Student marks in Mathematics, Physics and Chemistry are respectively - \n",
      "100 98 97 \n",
      "1. Add Student\n",
      "2. Update Grade\n",
      "3. Display Grades\n",
      "4. Calculate Average\n",
      "5. Exit\n"
     ]
    },
    {
     "name": "stdin",
     "output_type": "stream",
     "text": [
      "\n",
      "Choose an option :  4\n",
      "Enter the student's name whose average need to be calculated:  Ajit\n"
     ]
    },
    {
     "name": "stdout",
     "output_type": "stream",
     "text": [
      "Average grades of student is  98.33333333333333\n",
      "\n",
      "1. Add Student\n",
      "2. Update Grade\n",
      "3. Display Grades\n",
      "4. Calculate Average\n",
      "5. Exit\n"
     ]
    },
    {
     "name": "stdin",
     "output_type": "stream",
     "text": [
      "\n",
      "Choose an option :  5\n"
     ]
    },
    {
     "name": "stdout",
     "output_type": "stream",
     "text": [
      "Thanks for using program !\n"
     ]
    },
    {
     "ename": "SystemExit",
     "evalue": "0",
     "output_type": "error",
     "traceback": [
      "An exception has occurred, use %tb to see the full traceback.\n",
      "\u001b[1;31mSystemExit\u001b[0m\u001b[1;31m:\u001b[0m 0\n"
     ]
    },
    {
     "name": "stderr",
     "output_type": "stream",
     "text": [
      "C:\\Users\\ASUS\\anaconda3\\Lib\\site-packages\\IPython\\core\\interactiveshell.py:3585: UserWarning: To exit: use 'exit', 'quit', or Ctrl-D.\n",
      "  warn(\"To exit: use 'exit', 'quit', or Ctrl-D.\", stacklevel=1)\n"
     ]
    }
   ],
   "source": [
    "'''\n",
    "Task: Create a simple student grade management system that allows users to add, update, and display student grades. The program should also calculate the average grade for the students.\n",
    "\n",
    "Requirements: Data Structure: Use a dictionary to store student names as keys and their grades (as a list of integers) as values.\n",
    "\n",
    "Functionality:\n",
    "\n",
    "Add Student: Prompt the user for a student's name and their grade, then add this information to the dictionary.\n",
    "Update Grade: Prompt the user for a student's name and a new grade, then update the grade for that student.\n",
    "Display Grades: Print all student names along with their grades.\n",
    "Calculate Average: Calculate and print the average grade for all students.\n",
    "Input Handling:\n",
    "\n",
    "Ensure that grades are valid integers between 0 and 100.\n",
    "Handle cases where a student does not exist when updating grades.\n",
    "\n",
    "'''\n",
    "import sys\n",
    "\n",
    "#Custom exception to check whether the marks are in given range\n",
    "class MarksCheckerException(Exception):\n",
    "    def __init__(self,subject):\n",
    "        super().__init__(f\"Invalid marks entered for subject {subject}. Marks should be in range (1-100)\")\n",
    "\n",
    "studentGrades = {}\n",
    "print(\"Welcome to the Student Grade Management System!\")\n",
    "\n",
    "while True:\n",
    "    print('\\n1. Add Student')\n",
    "    print('2. Update Grade')\n",
    "    print('3. Display Grades')\n",
    "    print('4. Calculate Average')\n",
    "    print('5. Exit')\n",
    "    option = int(input('\\nChoose an option : '))\n",
    "    if option == 1:\n",
    "        studentName = input(\"Enter student's name: \")\n",
    "        if studentName in studentGrades:\n",
    "            print('The Student record already exists ! ')\n",
    "            currentGrades = studentGrades[studentName]\n",
    "            print('Student marks in Mathematics, Physics and Chemistry are respectively - ')\n",
    "            for mark in currentGrades:\n",
    "                print(mark)\n",
    "        else:\n",
    "            grades=[]\n",
    "            try:\n",
    "                mathsMarks = int(input(f'Enter the marks in Maths for {studentName}: '))\n",
    "                if mathsMarks<0 or mathsMarks>100:\n",
    "                    raise MarksCheckerException('Maths')\n",
    "                physicsMarks = int(input(f'Enter the marks in Physics for {studentName}: '))\n",
    "                if physicsMarks<0 or physicsMarks>100:\n",
    "                    raise MarksCheckerException('Physics')\n",
    "                chemistryMarks = int(input(f'Enter the marks in Chemistry for {studentName}: '))\n",
    "                if chemistryMarks<0 or chemistryMarks>100:\n",
    "                    raise MarksCheckerException('Chemistry')\n",
    "            except MarksCheckerException as e:\n",
    "                print(e)\n",
    "            else:\n",
    "                grades.append(mathsMarks)\n",
    "                grades.append(physicsMarks)\n",
    "                grades.append(chemistryMarks)\n",
    "                studentGrades[studentName]=grades\n",
    "                print('New Student record inserted successfully !')       \n",
    "        #print(studentGrades)\n",
    "    elif option == 2:\n",
    "        flag=True\n",
    "        studentName = input(\"Enter the student's name for which the grade need to be updated: \")\n",
    "        if studentName in studentGrades:\n",
    "            currentGrades=studentGrades[studentName]\n",
    "            #print('The current grade of student in Maths, Physics and Chemistry respectively are: ',studentGrades[studentName])\n",
    "            while flag:\n",
    "                mMarks=currentGrades[0]\n",
    "                pMarks=currentGrades[1]\n",
    "                cMarks=currentGrades[2]\n",
    "                print('1.Enter 1 to update Maths marks')\n",
    "                print('2.Enter 2 to update Physics marks')\n",
    "                print('3.Enter 3 to update Chemistry marks')\n",
    "                print('4.Enter 4 to quit operation')\n",
    "                userInput = int(input('Enter your choice: '))\n",
    "                if userInput==1:\n",
    "                    try:\n",
    "                        print('Current Grade: ',mMarks)\n",
    "                        mMarks = int(input('Enter updated marks in Maths: '))\n",
    "                        if mMarks<0 or mMarks>100:\n",
    "                            raise MarksCheckerException('Maths')\n",
    "                    except MarksCheckerException as e:\n",
    "                        print(e)\n",
    "                    else:\n",
    "                        currentGrades[0]=mMarks\n",
    "                        studentGrades[studentName]=currentGrades\n",
    "                        print('Marks updated successfully!')\n",
    "                elif userInput==2:\n",
    "                    try:\n",
    "                        print('Current Grade: ',pMarks)\n",
    "                        pMarks = int(input('Enter updated marks in Physics: '))\n",
    "                        if iMarks<0 or pMarks>100:\n",
    "                            raise MarksCheckerException('Physics')\n",
    "                    except MarkCheckerException as e:\n",
    "                        print(e)\n",
    "                    else:\n",
    "                        currentGrades[1]=pMarks\n",
    "                        studentGrades[studentName]=currentGrades\n",
    "                        print('Marks updated successfully!')\n",
    "                        \n",
    "                elif userInput==3:\n",
    "                    try:\n",
    "                        print('Current Grade: ',cMarks)\n",
    "                        cMarks = int(input('Enter updated marks in Chemistry: '))\n",
    "                        if cMarks<0 or cMarks>100:\n",
    "                            raise MarksCheckerException('Chemistry')\n",
    "                    except Exception as e:\n",
    "                        print(e)\n",
    "                    else:\n",
    "                        currentGrades[1]=pMarks\n",
    "                        studentGrades[studentName]=currentGrades\n",
    "                        print('Marks updated successfully!')\n",
    "                        \n",
    "                elif userInput==4:\n",
    "                    flag=False\n",
    "                    break\n",
    "                else:\n",
    "                    print('Invalid Choice! Enter proper choice(1-3)')\n",
    "            else:\n",
    "                print('Student record does not exist!')\n",
    "    elif option==3:\n",
    "        studentName = input(\"Enter the student's name whose grade need to be display: \")\n",
    "        if studentName in studentGrades:\n",
    "            currentGrades = studentGrades[studentName]\n",
    "            print('Student marks in Mathematics, Physics and Chemistry are respectively - ')\n",
    "            for mark in currentGrades:\n",
    "                print(mark,end=\" \")\n",
    "        else:\n",
    "            print('Student record does not exist!')\n",
    "\n",
    "    elif option==4:\n",
    "        studentName = input(\"Enter the student's name whose average need to be calculated: \")\n",
    "        if studentName in studentGrades:\n",
    "            grades = studentGrades[studentName]\n",
    "            average = 0\n",
    "            sum=0\n",
    "            for grade in grades:\n",
    "                sum+=grade\n",
    "            average=sum/len(grades)\n",
    "            print('Average grades of student is ',average)\n",
    "        else:\n",
    "            print('Student record does not exist!')\n",
    "        \n",
    "    elif option == 5:\n",
    "        print('Thanks for using program !')\n",
    "        try:\n",
    "            sys.exit(0)\n",
    "        except Exception as e:print(e)\n",
    "           \n",
    "    else:\n",
    "        print('Invalid Option! Enter input from 1 to 5.')\n"
   ]
  },
  {
   "cell_type": "code",
   "execution_count": null,
   "id": "51c21b6d-654e-4d00-bfa8-637d7508c8ab",
   "metadata": {},
   "outputs": [],
   "source": []
  }
 ],
 "metadata": {
  "kernelspec": {
   "display_name": "Python 3 (ipykernel)",
   "language": "python",
   "name": "python3"
  },
  "language_info": {
   "codemirror_mode": {
    "name": "ipython",
    "version": 3
   },
   "file_extension": ".py",
   "mimetype": "text/x-python",
   "name": "python",
   "nbconvert_exporter": "python",
   "pygments_lexer": "ipython3",
   "version": "3.12.4"
  }
 },
 "nbformat": 4,
 "nbformat_minor": 5
}
