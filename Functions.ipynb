{
 "cells": [
  {
   "cell_type": "code",
   "execution_count": 1,
   "id": "647f9a3b-ff3e-4363-9313-36945272b8a8",
   "metadata": {},
   "outputs": [
    {
     "name": "stdout",
     "output_type": "stream",
     "text": [
      "Welcome to the Calculator program\n"
     ]
    },
    {
     "name": "stdin",
     "output_type": "stream",
     "text": [
      "Enter first number:  10\n",
      "Enter second number:  20\n"
     ]
    },
    {
     "name": "stdout",
     "output_type": "stream",
     "text": [
      "1. Addition\n",
      "2. Subtraction\n",
      "3. Multiplication\n",
      "4. Division\n",
      "5. Exit\n"
     ]
    },
    {
     "name": "stdin",
     "output_type": "stream",
     "text": [
      "Enter your choice:  1\n"
     ]
    },
    {
     "name": "stdout",
     "output_type": "stream",
     "text": [
      "30\n"
     ]
    },
    {
     "name": "stdin",
     "output_type": "stream",
     "text": [
      "Do you wish to continue further? (Y/N) Y\n",
      "Enter number:  10\n"
     ]
    },
    {
     "name": "stdout",
     "output_type": "stream",
     "text": [
      "1. Addition\n",
      "2. Subtraction\n",
      "3. Multiplication\n",
      "4. Division\n",
      "5. Exit\n"
     ]
    },
    {
     "name": "stdin",
     "output_type": "stream",
     "text": [
      "Enter your choice:  2\n"
     ]
    },
    {
     "name": "stdout",
     "output_type": "stream",
     "text": [
      "20\n"
     ]
    },
    {
     "name": "stdin",
     "output_type": "stream",
     "text": [
      "Do you wish to continue further? (Y/N) Y\n",
      "Enter number:  0\n"
     ]
    },
    {
     "name": "stdout",
     "output_type": "stream",
     "text": [
      "1. Addition\n",
      "2. Subtraction\n",
      "3. Multiplication\n",
      "4. Division\n",
      "5. Exit\n"
     ]
    },
    {
     "name": "stdin",
     "output_type": "stream",
     "text": [
      "Enter your choice:  4\n"
     ]
    },
    {
     "name": "stdout",
     "output_type": "stream",
     "text": [
      "Exception occured ! Division by Zero not allowed\n",
      "None\n"
     ]
    },
    {
     "name": "stdin",
     "output_type": "stream",
     "text": [
      "Do you wish to continue further? (Y/N) y\n",
      "Enter number:  80\n"
     ]
    },
    {
     "name": "stdout",
     "output_type": "stream",
     "text": [
      "1. Addition\n",
      "2. Subtraction\n",
      "3. Multiplication\n",
      "4. Division\n",
      "5. Exit\n"
     ]
    },
    {
     "name": "stdin",
     "output_type": "stream",
     "text": [
      "Enter your choice:  1\n"
     ]
    },
    {
     "name": "stdout",
     "output_type": "stream",
     "text": [
      "110\n"
     ]
    },
    {
     "name": "stdin",
     "output_type": "stream",
     "text": [
      "Do you wish to continue further? (Y/N) n\n"
     ]
    },
    {
     "ename": "SystemExit",
     "evalue": "Program execution terminated successfully!",
     "output_type": "error",
     "traceback": [
      "An exception has occurred, use %tb to see the full traceback.\n",
      "\u001b[1;31mSystemExit\u001b[0m\u001b[1;31m:\u001b[0m Program execution terminated successfully!\n"
     ]
    },
    {
     "name": "stderr",
     "output_type": "stream",
     "text": [
      "C:\\Users\\ASUS\\anaconda3\\Lib\\site-packages\\IPython\\core\\interactiveshell.py:3585: UserWarning: To exit: use 'exit', 'quit', or Ctrl-D.\n",
      "  warn(\"To exit: use 'exit', 'quit', or Ctrl-D.\", stacklevel=1)\n"
     ]
    }
   ],
   "source": [
    "'''\n",
    "Create a Python program that serves as a menu-driven calculator supporting addition, subtraction, multiplication, and division. \n",
    "The calculator should continue to prompt the user until they choose to exit, using recursion to handle multiple calculations. \n",
    "Proper error handling must be included for invalid inputs and exceptions.\n",
    "\n",
    "**Challenge Requirements:**\n",
    "Functions & Argumen\n",
    "'''\n",
    "\n",
    "class DivisionByZeroException(Exception):\n",
    "    pass\n",
    "\n",
    "\n",
    "def addition(number1,number2):\n",
    "    return number1 + number2\n",
    "\n",
    "def subtraction(number1,number2):\n",
    "    return number1 - number2\n",
    "\n",
    "def multiplication(number1,number2):\n",
    "    return number1 * number2\n",
    "\n",
    "def division(number1,number2):\n",
    "    try:\n",
    "        if number2 == 0:\n",
    "            raise DivisionByZeroException()\n",
    "    except DivisionByZeroException as e:\n",
    "        print('Exception occured ! Division by Zero not allowed')\n",
    "    else:\n",
    "        return number1 / number2\n",
    "\n",
    "def show_menu():\n",
    "    print('1. Addition')\n",
    "    print('2. Subtraction')\n",
    "    print('3. Multiplication')\n",
    "    print('4. Division')\n",
    "    print('5. Exit')\n",
    "\n",
    "#number1 and number2 are optional parameters\n",
    "def menu(choice,number1=0,number2=0):\n",
    "    if choice == 1:\n",
    "        return addition(number1,number2)\n",
    "    elif choice== 2:\n",
    "        return subtraction(number1,number2)\n",
    "    elif choice == 3:\n",
    "        return multiplication(number1,number2)\n",
    "    elif choice == 4:\n",
    "        return division(number1,number2)\n",
    "    elif choice == 5:\n",
    "        raise SystemExit(\"Program execution terminated successfully!\")\n",
    "    else:\n",
    "        print('Invalid choice! Input a proper choice')\n",
    "            \n",
    "\n",
    "\n",
    "def calculator():\n",
    "    #print('Welcome to the Calculator program')\n",
    "    number1 = int(input('Enter first number: '))\n",
    "    number2 = int(input('Enter second number: '))\n",
    "    result = 0\n",
    "    while True:\n",
    "        show_menu()\n",
    "        choice = int(input('Enter your choice: '))\n",
    "        result = menu(choice,number1,number2)\n",
    "        if result is None:\n",
    "            result = 0\n",
    "        print(result)\n",
    "        while True:\n",
    "            uinput = input('Do you wish to continue further? (Y/N)')\n",
    "            if uinput.lower() == 'y':\n",
    "                num = int(input('Enter number: '))\n",
    "                show_menu()\n",
    "                choice = int(input('Enter your choice: '))\n",
    "                nresult = menu(choice,result,num)\n",
    "                print(nresult)\n",
    "            else:\n",
    "                menu(5)\n",
    "\n",
    "def main():\n",
    "    print(\"Welcome to the Calculator program\")\n",
    "    calculator()\n",
    "    \n",
    "if __name__ == \"__main__\":\n",
    "    main()\n",
    "        "
   ]
  },
  {
   "cell_type": "code",
   "execution_count": null,
   "id": "fe953f23-be89-48d8-ac32-988bd784afab",
   "metadata": {},
   "outputs": [],
   "source": []
  }
 ],
 "metadata": {
  "kernelspec": {
   "display_name": "Python 3 (ipykernel)",
   "language": "python",
   "name": "python3"
  },
  "language_info": {
   "codemirror_mode": {
    "name": "ipython",
    "version": 3
   },
   "file_extension": ".py",
   "mimetype": "text/x-python",
   "name": "python",
   "nbconvert_exporter": "python",
   "pygments_lexer": "ipython3",
   "version": "3.12.4"
  }
 },
 "nbformat": 4,
 "nbformat_minor": 5
}
