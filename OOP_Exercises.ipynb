{
 "cells": [
  {
   "cell_type": "code",
   "execution_count": 6,
   "id": "5b68313c-2e7a-4f88-aa11-034de1ffd319",
   "metadata": {},
   "outputs": [
    {
     "name": "stdout",
     "output_type": "stream",
     "text": [
      "Name is:  Ajit\n",
      "Age is:  27\n"
     ]
    }
   ],
   "source": [
    "#Create a Person class with attributes name and age. Instantiate the class with a name and age, then print out the value\n",
    "\n",
    "class Person:\n",
    "    def __init__(self,name,age):\n",
    "        self.name=name\n",
    "        self.age=age\n",
    "    def getName(self):\n",
    "        return self.name\n",
    "    def getAge(self):\n",
    "        return self.age\n",
    "\n",
    "p1 = Person('Ajit',27)\n",
    "print('Name is: ',p1.getName())\n",
    "print('Age is: ',p1.getAge())"
   ]
  },
  {
   "cell_type": "code",
   "execution_count": 10,
   "id": "68872fe3-7664-4aea-acc8-02fa5b434a4e",
   "metadata": {},
   "outputs": [
    {
     "name": "stdout",
     "output_type": "stream",
     "text": [
      "Good Afternoon:  Ajit  !\n"
     ]
    }
   ],
   "source": [
    "#Add a greet method to the `Person` class that prints a greeting with the person’s name. Create an instance and call `greet()` to verify it works.\n",
    "class Person:\n",
    "    def __init__(self,name,age):\n",
    "        self.name=name\n",
    "        self.age=age\n",
    "    def greet(self):\n",
    "        print('Good Afternoon: ',self.name,'!')\n",
    "\n",
    "p1 = Person('Ajit',24)\n",
    "p1.greet()"
   ]
  },
  {
   "cell_type": "code",
   "execution_count": 20,
   "id": "01b502b1-9632-4427-8195-10699a0fd188",
   "metadata": {},
   "outputs": [
    {
     "name": "stdout",
     "output_type": "stream",
     "text": [
      "Avengers  -  7.9\n",
      "SpiderMan  -  Unrated\n"
     ]
    }
   ],
   "source": [
    "'''\n",
    "Create a Movie class with attributes title and rating. Set a default value of \"Unrated\" for rating. \n",
    "Create two instances, one with and one without specifying a rating, then print the details.\n",
    "'''\n",
    "\n",
    "class Movie:\n",
    "    def __init__(self,title,rating='Unrated'):\n",
    "        self.title=title\n",
    "        self.rating=rating\n",
    "    def getTitle(self):\n",
    "        return self.title\n",
    "    def getRating(self):\n",
    "        return self.rating\n",
    "\n",
    "m1 = Movie('Avengers',7.9)\n",
    "m2 = Movie('SpiderMan')\n",
    "\n",
    "print(m1.getTitle(),' - ',m1.getRating())\n",
    "print(m2.getTitle(),' - ',m2.getRating())\n",
    "    "
   ]
  },
  {
   "cell_type": "code",
   "execution_count": 26,
   "id": "42df5d4f-1a46-48ee-a572-2524707d7ba9",
   "metadata": {},
   "outputs": [
    {
     "name": "stdout",
     "output_type": "stream",
     "text": [
      "Present age of  Ajit  is  25\n"
     ]
    }
   ],
   "source": [
    "'''Add a method calculate_age to the Person class, which takes a birth_year parameter and calculates the person’s age based on the current year.\n",
    "Print the calculated age'''\n",
    "\n",
    "import datetime\n",
    "\n",
    "# Get the current year\n",
    "current_year = datetime.datetime.now().year\n",
    "\n",
    "class Person:\n",
    "    def __init__(self,name,birth_year):\n",
    "        self.name=name\n",
    "        self.birth_year=birth_year\n",
    "    def getName(self):\n",
    "        return self.name\n",
    "    def getBirthYear(self):\n",
    "        return self.birth_year\n",
    "    def calculate_age(self):\n",
    "        return current_year - self.birth_year\n",
    "\n",
    "p1 = Person('Ajit',1999)\n",
    "print('Present age of ', p1.getName(),' is ',p1.calculate_age())\n",
    "    "
   ]
  },
  {
   "cell_type": "code",
   "execution_count": null,
   "id": "f4713cb4-a5e7-4a95-bf34-af6dbfd173c7",
   "metadata": {},
   "outputs": [],
   "source": []
  }
 ],
 "metadata": {
  "kernelspec": {
   "display_name": "Python 3 (ipykernel)",
   "language": "python",
   "name": "python3"
  },
  "language_info": {
   "codemirror_mode": {
    "name": "ipython",
    "version": 3
   },
   "file_extension": ".py",
   "mimetype": "text/x-python",
   "name": "python",
   "nbconvert_exporter": "python",
   "pygments_lexer": "ipython3",
   "version": "3.12.4"
  }
 },
 "nbformat": 4,
 "nbformat_minor": 5
}
