{
 "cells": [
  {
   "cell_type": "code",
   "execution_count": 49,
   "id": "03afee04-8017-4b75-bca9-dc14822a5492",
   "metadata": {},
   "outputs": [
    {
     "name": "stdout",
     "output_type": "stream",
     "text": [
      "Even numbers from 1 to 100 - \n",
      "0 2 4 6 8 10 12 14 16 18 20 22 24 26 28 30 32 34 36 38 40 42 44 46 48 50 52 54 56 58 60 62 64 66 68 70 72 74 76 78 80 82 84 86 88 90 92 94 96 98 100 \n",
      "Sum of even numbers from 1 to 100 is :  2550\n"
     ]
    }
   ],
   "source": [
    "'''**Exercise 4: Sum of Even Numbers**\n",
    "- Task: Write a program that calculates the sum of all even numbers between 1 and 100 using a for loop.\n",
    "- Hint: Use the range() function with a step value of 2 to iterate through even numbers.'''\n",
    "\n",
    "print('Even numbers from 1 to 100 - ')\n",
    "sumEven=0\n",
    "for i in range(0,101):\n",
    "    if i % 2 ==0:\n",
    "        print(i,end=' ')\n",
    "        sumEven+=i\n",
    "print('\\nSum of even numbers from 1 to 100 is : ',sumEven)\n",
    "    "
   ]
  },
  {
   "cell_type": "code",
   "execution_count": 51,
   "id": "7277de09-6efe-4bec-8644-6df008ff5130",
   "metadata": {},
   "outputs": [
    {
     "name": "stdin",
     "output_type": "stream",
     "text": [
      "Enter lower limit :  1\n",
      "Enter upper limit :  5\n"
     ]
    },
    {
     "name": "stdout",
     "output_type": "stream",
     "text": [
      "---------------------\n",
      "1  X  1  =  1\n",
      "1  X  2  =  2\n",
      "1  X  3  =  3\n",
      "1  X  4  =  4\n",
      "1  X  5  =  5\n",
      "1  X  6  =  6\n",
      "1  X  7  =  7\n",
      "1  X  8  =  8\n",
      "1  X  9  =  9\n",
      "1  X  10  =  10\n",
      "---------------------\n",
      "2  X  1  =  2\n",
      "2  X  2  =  4\n",
      "2  X  3  =  6\n",
      "2  X  4  =  8\n",
      "2  X  5  =  10\n",
      "2  X  6  =  12\n",
      "2  X  7  =  14\n",
      "2  X  8  =  16\n",
      "2  X  9  =  18\n",
      "2  X  10  =  20\n",
      "---------------------\n",
      "3  X  1  =  3\n",
      "3  X  2  =  6\n",
      "3  X  3  =  9\n",
      "3  X  4  =  12\n",
      "3  X  5  =  15\n",
      "3  X  6  =  18\n",
      "3  X  7  =  21\n",
      "3  X  8  =  24\n",
      "3  X  9  =  27\n",
      "3  X  10  =  30\n",
      "---------------------\n",
      "4  X  1  =  4\n",
      "4  X  2  =  8\n",
      "4  X  3  =  12\n",
      "4  X  4  =  16\n",
      "4  X  5  =  20\n",
      "4  X  6  =  24\n",
      "4  X  7  =  28\n",
      "4  X  8  =  32\n",
      "4  X  9  =  36\n",
      "4  X  10  =  40\n",
      "---------------------\n",
      "5  X  1  =  5\n",
      "5  X  2  =  10\n",
      "5  X  3  =  15\n",
      "5  X  4  =  20\n",
      "5  X  5  =  25\n",
      "5  X  6  =  30\n",
      "5  X  7  =  35\n",
      "5  X  8  =  40\n",
      "5  X  9  =  45\n",
      "5  X  10  =  50\n",
      "---------------------\n"
     ]
    }
   ],
   "source": [
    "#Exercise 2 Multiple for Loops\n",
    "'''\n",
    " Write a program that outputs the multiplication tables from 1 to 5.\n",
    "- Use nested for loops to iterate over both the multiplier and the multiplicand.\n",
    "'''\n",
    "num1 = int(input('Enter lower limit : '))\n",
    "num2 = int(input('Enter upper limit : '))\n",
    "print(\"---------------------\")\n",
    "for x in range(num1,num2+1):\n",
    "    for y in range(1,11):\n",
    "        print(x,\" X \",y,\" = \",x*y)\n",
    "    print(\"---------------------\")\n",
    "    "
   ]
  },
  {
   "cell_type": "code",
   "execution_count": 11,
   "id": "6c06475a-63ed-49ab-a6b9-467df6eb2baa",
   "metadata": {},
   "outputs": [
    {
     "name": "stdout",
     "output_type": "stream",
     "text": [
      "2  X  1  =  2\n",
      "2  X  2  =  4\n",
      "2  X  3  =  6\n",
      "2  X  4  =  8\n",
      "2  X  5  =  10\n",
      "2  X  6  =  12\n",
      "2  X  7  =  14\n",
      "2  X  8  =  16\n",
      "2  X  9  =  18\n",
      "2  X  10  =  20\n"
     ]
    }
   ],
   "source": [
    "#printing table using while loop\n",
    "num = 2\n",
    "i=1\n",
    "while(i!=11):\n",
    "    print(num , \" X \", i ,\" = \",num*i)\n",
    "    i+=1"
   ]
  },
  {
   "cell_type": "code",
   "execution_count": 31,
   "id": "aaa39543-0e4f-4708-80dd-4e4e7faaaccf",
   "metadata": {},
   "outputs": [
    {
     "name": "stdin",
     "output_type": "stream",
     "text": [
      "Enter the signal colour(RED/YELLOW/GREEN) :  green\n",
      "Enter if Pedestrian is present(Y/N) n\n"
     ]
    },
    {
     "name": "stdout",
     "output_type": "stream",
     "text": [
      "go\n"
     ]
    }
   ],
   "source": [
    "'''\n",
    "**Exercise 1: Branching with Nested if**\n",
    "- Create a program that simulates a simple traffic light system.\n",
    "- Input a color (red, yellow, or green) and output whether cars should \"stop\", \"slow down\", or \"go\".\n",
    "- Extend this by adding another if to check if there are pedestrians present. If yes, even for green light, cars should \"wait\".\n",
    "'''\n",
    "\n",
    "\n",
    "color=input('Enter the signal colour(RED/YELLOW/GREEN) : ')\n",
    "isPedestrianPresent = ''\n",
    "\n",
    "#while loop to ensure user enters only Y or N value which should be case insensitive\n",
    "while True:\n",
    "    isPedestrianPresent = input('Enter if Pedestrian is present(Y/N)')\n",
    "    if isPedestrianPresent.upper() == 'Y' or isPedestrianPresent.upper()=='N':\n",
    "        break;\n",
    "    else:\n",
    "        print('Invalid input , Please enter Y or N only')\n",
    "\n",
    "#make the signal color case-insensitive \n",
    "if color.upper() == 'RED':\n",
    "    print('stop')\n",
    "elif color.upper() == 'YELLOW':\n",
    "    print('slow down')\n",
    "elif color.upper() =='GREEN':\n",
    "    if isPedestrianPresent == 'Y':\n",
    "        print('wait')\n",
    "    else:\n",
    "        print('go')\n",
    "else:\n",
    "    print('INVALID signal color !')"
   ]
  },
  {
   "cell_type": "code",
   "execution_count": 5,
   "id": "fa9f144d-6155-4eef-860d-b5f16fedd830",
   "metadata": {},
   "outputs": [
    {
     "name": "stdin",
     "output_type": "stream",
     "text": [
      "Enter marks out of 100 :  30\n"
     ]
    },
    {
     "name": "stdout",
     "output_type": "stream",
     "text": [
      "Fail\n"
     ]
    }
   ],
   "source": [
    "'''Exercise 3: Grade Classification**\n",
    "- Task: Prompt the user to enter a grade (out of 100). Use if-elif-else statements to classify the grade into A, B, C, or Fail.\n",
    "- Hint: Use branching to evaluate the grade range and print the corresponding result.'''\n",
    "\n",
    "\n",
    "#conditions -> above 75 : A , 60-75 -B, 35-60 -C , else fail\n",
    "\n",
    "marks = int(input(\"Enter marks out of 100 : \"))\n",
    "\n",
    "if marks >=75:\n",
    "    print('A Grade')\n",
    "elif marks >=60 and marks<75:\n",
    "    print('B Grade')\n",
    "elif marks >=35 and marks<60:\n",
    "    print('C Grade')\n",
    "else:\n",
    "    print('Fail')\n",
    "\n",
    "    "
   ]
  },
  {
   "cell_type": "code",
   "execution_count": 9,
   "id": "9d8839ca-a61f-4a4d-a83e-5425cd62b0d9",
   "metadata": {},
   "outputs": [
    {
     "name": "stdout",
     "output_type": "stream",
     "text": [
      "Current balance is  1000\n"
     ]
    },
    {
     "name": "stdin",
     "output_type": "stream",
     "text": [
      "Enter the amount to withdraw :  2000\n"
     ]
    },
    {
     "name": "stdout",
     "output_type": "stream",
     "text": [
      "Insufficient balance !\n"
     ]
    }
   ],
   "source": [
    "'''\n",
    "**Exercise 5: Bank Withdrawal Simulation**\n",
    "- Task: Simulate a simple ATM withdrawal system using a while loop. The user starts with a balance of £1000. The loop should continue to prompt the user\n",
    "for an amount to withdraw, and after each withdrawal, display the remaining balance. Stop the loop when the balance becomes zero or less.\n",
    "- Hint: Make sure the loop exits when the balance is depleted, and handle cases where the withdrawal amount is greater than the available balance.\n",
    "'''\n",
    "\n",
    "balance=1000\n",
    "print(\"Current balance is \", balance)\n",
    "while balance>=0:\n",
    "    wAmount=int(input(\"Enter the amount to withdraw : \"))\n",
    "    if wAmount >balance:\n",
    "        print(\"Insufficient balance !\")\n",
    "        break\n",
    "    else:\n",
    "        balance=balance-wAmount\n",
    "        print(\"Updated balance is : \" , balance)\n",
    "        continue\n"
   ]
  },
  {
   "cell_type": "code",
   "execution_count": 57,
   "id": "70f551f5-92dd-430c-af2b-b6d9ab7e7d54",
   "metadata": {},
   "outputs": [
    {
     "name": "stdout",
     "output_type": "stream",
     "text": [
      "['Geeks', 'For']\n",
      "Geeks\n",
      "For\n",
      "['Geeks']\n"
     ]
    }
   ],
   "source": [
    "#Python lists \n",
    "\n",
    "'''list1 = [1,2,3,4,5]\n",
    "print(list1[-1])\n",
    "for x in list1:\n",
    "    print(x,end=\" \")\n",
    "'''\n",
    "\n",
    "List = [['Geeks', 'For'], ['Geeks']]\n",
    "print(List[0])   #['Geeks', 'For']\n",
    "print(List[0][0]) #'Geeks'\n",
    "print(List[0][1]) #'For'\n",
    "print(List[1])    "
   ]
  },
  {
   "cell_type": "code",
   "execution_count": 81,
   "id": "0d2b518c-d207-4bec-89a4-6431b44e1561",
   "metadata": {},
   "outputs": [
    {
     "name": "stdout",
     "output_type": "stream",
     "text": [
      "0 -> 3\n",
      "1 -> 5\n",
      "2 -> 6\n",
      "3 -> 7\n",
      "4 -> 8\n",
      "5 -> 9\n"
     ]
    }
   ],
   "source": [
    "#Accessing the list elements using indices\n",
    "list1 = [3, 5, 6, 7, 8, 9]\n",
    "#print(len(list1))\n",
    "for i in range(0,len(list1)):\n",
    "    print(i,\"->\",list1[i])\n"
   ]
  },
  {
   "cell_type": "code",
   "execution_count": 27,
   "id": "6d10ebcc-b893-47b8-b869-24be6a5ca489",
   "metadata": {},
   "outputs": [
    {
     "name": "stdout",
     "output_type": "stream",
     "text": [
      "[1, 2, 3, 4, 5, 6, 7, 8, 9, 1, 10, 1]\n",
      "[1, 2, 3, 4, 5, 6, 7, 8, 9, 1, 10, 1]\n",
      "[1, 10, 1, 9, 8, 7, 6, 5, 4, 3, 2, 1]\n"
     ]
    }
   ],
   "source": [
    "#List methods\n",
    "List1 = [1,2,3,4,5,6,7,8,9,1,10,1]\n",
    "#List1.append(6)   #append methods will add element at the end of list\n",
    "#List1.insert(0,12) #insert method will insert element at particular index -> list.insert(index,element) -> right shifts the elements\n",
    "#List2=['green','red','orange']\n",
    "#List1.extend(List2)  #Adds elements at the end of the list\n",
    "\n",
    "#Reversing a list\n",
    "reverse_list = list(reversed(List1))\n",
    "#print(reverse_list)\n",
    "\n",
    "#Removing a element from list\n",
    "'''print('Original List : ',List1)\n",
    "for i in range(1,4):\n",
    "    List1.remove(i)\n",
    "print('After removal',List1)\n",
    "\n",
    "List1.pop()   #removes the last element from list ->pop(2) : it removes the element at specific index\n",
    "print('After pop() method the list is ',List1)'''\n",
    "\n",
    "#index \n",
    "print(List1)\n",
    "#print(\"Index of element 10 is \",List1.index(10))  #returns the index of the element\n",
    "#print(\"Count of element 1 is : \",List1.count(1))   #count returns the count of specific element in that list\n",
    "#List1.sort()     #sorts the elements in ascending order\n",
    "\n",
    "\n"
   ]
  },
  {
   "cell_type": "code",
   "execution_count": 53,
   "id": "281bbcf2-73ff-4898-b9a5-7d1973025862",
   "metadata": {},
   "outputs": [
    {
     "name": "stdout",
     "output_type": "stream",
     "text": [
      "[10, 20, 30, 40, 50]\n"
     ]
    }
   ],
   "source": [
    "#sorted method\n",
    "\n",
    "list1 = [50,30,20,10,40]\n",
    "'''list1.sort()\n",
    "list1.reverse()\n",
    "print(list1)'''\n",
    "#a=sorted(list1)   #prints the list in ascending order\n",
    "#b=sorted(list1,reverse=True) #prints the list in descending order\n",
    "#print(b)\n",
    "c=sorted(list1,key=add)\n",
    "print(c)\n",
    "\n"
   ]
  },
  {
   "cell_type": "code",
   "execution_count": 65,
   "id": "d8cd0d41-6a87-4799-98da-c2dfafc0b084",
   "metadata": {},
   "outputs": [
    {
     "name": "stdout",
     "output_type": "stream",
     "text": [
      "[100, 80, 60, 40, 20]\n"
     ]
    }
   ],
   "source": [
    "list1 = [50,30,20,10,40]\n",
    "\n",
    "rSortedList = [x*2 for x in sorted(list1,reverse=True)]\n",
    "print(rSortedList)\n",
    "\n"
   ]
  },
  {
   "cell_type": "code",
   "execution_count": 101,
   "id": "2aa397fa-aee9-4258-ba95-4433cbdc8247",
   "metadata": {},
   "outputs": [
    {
     "name": "stdout",
     "output_type": "stream",
     "text": [
      "Ronak Amit Ajay 6 5 4 3 2 1 "
     ]
    }
   ],
   "source": [
    "#Tuples -> Same like lists but they are immutable , you cannot add/remove elements once the tuple is created\n",
    "\n",
    "#creating a tuple\n",
    "#tup1 = ()  #Empty tuple\n",
    "#print(tup1)\n",
    "\n",
    "#tuple with single element-> always add , while creating a tuple with single value\n",
    "'''tup1 = ('Man')\n",
    "print(tup1, type(tup1))\n",
    "\n",
    "tup1=('Man',)\n",
    "print(tup1,type(tup1))\n",
    "'''\n",
    "\n",
    "t1 = (1,2,3,4,5,6)\n",
    "t2 = ('Ajay','Amit','Ronak')\n",
    "t3=(t1,t2)  # creates a nested tuple-> ((1, 2, 3, 4, 5, 6), ('Ajay', 'Amit', 'Ronak'))\n",
    "t3=t1+t2    #creates a single tuple with all elements -> (1, 2, 3, 4, 5, 6, 'Ajay', 'Amit', 'Ronak')\n",
    "#print(t3)\n",
    "#printing length of tuple\n",
    "#print(len(t3))\n",
    "\n",
    "#printing each element of tuple in reverse order\n",
    "for i in range(len(t3)-1,-1,-1):\n",
    "    print(t3[i],end=\" \")\n",
    "\n"
   ]
  },
  {
   "cell_type": "code",
   "execution_count": 127,
   "id": "d0b5dbcf-ce0f-4169-8d41-fbea90ce39fa",
   "metadata": {},
   "outputs": [
    {
     "name": "stdout",
     "output_type": "stream",
     "text": [
      "Ford\n"
     ]
    },
    {
     "ename": "TypeError",
     "evalue": "'dict' object is not callable",
     "output_type": "error",
     "traceback": [
      "\u001b[1;31m---------------------------------------------------------------------------\u001b[0m",
      "\u001b[1;31mTypeError\u001b[0m                                 Traceback (most recent call last)",
      "Cell \u001b[1;32mIn[127], line 15\u001b[0m\n\u001b[0;32m      9\u001b[0m thisdict \u001b[38;5;241m=\u001b[39m {\n\u001b[0;32m     10\u001b[0m   \u001b[38;5;124m\"\u001b[39m\u001b[38;5;124mbrand\u001b[39m\u001b[38;5;124m\"\u001b[39m: \u001b[38;5;124m\"\u001b[39m\u001b[38;5;124mFord\u001b[39m\u001b[38;5;124m\"\u001b[39m,\n\u001b[0;32m     11\u001b[0m   \u001b[38;5;124m\"\u001b[39m\u001b[38;5;124mmodel\u001b[39m\u001b[38;5;124m\"\u001b[39m: \u001b[38;5;124m\"\u001b[39m\u001b[38;5;124mMustang\u001b[39m\u001b[38;5;124m\"\u001b[39m,\n\u001b[0;32m     12\u001b[0m   \u001b[38;5;124m\"\u001b[39m\u001b[38;5;124myear\u001b[39m\u001b[38;5;124m\"\u001b[39m: \u001b[38;5;241m1964\u001b[39m\n\u001b[0;32m     13\u001b[0m }\n\u001b[0;32m     14\u001b[0m \u001b[38;5;28mprint\u001b[39m(thisdict[\u001b[38;5;124m\"\u001b[39m\u001b[38;5;124mbrand\u001b[39m\u001b[38;5;124m\"\u001b[39m])\n\u001b[1;32m---> 15\u001b[0m y_dict \u001b[38;5;241m=\u001b[39m \u001b[38;5;28mdict\u001b[39m([(\u001b[38;5;124m\"\u001b[39m\u001b[38;5;124mname\u001b[39m\u001b[38;5;124m\"\u001b[39m, \u001b[38;5;124m\"\u001b[39m\u001b[38;5;124mAlice\u001b[39m\u001b[38;5;124m\"\u001b[39m), (\u001b[38;5;124m\"\u001b[39m\u001b[38;5;124mage\u001b[39m\u001b[38;5;124m\"\u001b[39m, \u001b[38;5;241m30\u001b[39m), (\u001b[38;5;124m\"\u001b[39m\u001b[38;5;124mcity\u001b[39m\u001b[38;5;124m\"\u001b[39m, \u001b[38;5;124m\"\u001b[39m\u001b[38;5;124mNew York\u001b[39m\u001b[38;5;124m\"\u001b[39m)])\n\u001b[0;32m     17\u001b[0m \u001b[38;5;28mprint\u001b[39m(my_dict)\n",
      "\u001b[1;31mTypeError\u001b[0m: 'dict' object is not callable"
     ]
    }
   ],
   "source": [
    "#Dictionary\n",
    "#dict={}\n",
    "#print(dict)\n",
    "\n",
    "#dict={1:\"Asu\",2:\"Ron\",3:\"Smith\",4:\"Warner\",5:\"Pravin\"}\n",
    "#print(dict)\n",
    "\n",
    "#Using the dictionary constructor\n",
    "thisdict = {\n",
    "  \"brand\": \"Ford\",\n",
    "  \"model\": \"Mustang\",\n",
    "  \"year\": 1964\n",
    "}\n",
    "print(thisdict[\"brand\"])\n",
    "y_dict = dict([(\"name\", \"Alice\"), (\"age\", 30), (\"city\", \"New York\")])\n",
    "\n",
    "print(my_dict)"
   ]
  },
  {
   "cell_type": "code",
   "execution_count": 133,
   "id": "f0e2ac73-371d-4331-94e5-7f927e160cea",
   "metadata": {},
   "outputs": [
    {
     "ename": "TypeError",
     "evalue": "'dict' object is not callable",
     "output_type": "error",
     "traceback": [
      "\u001b[1;31m---------------------------------------------------------------------------\u001b[0m",
      "\u001b[1;31mTypeError\u001b[0m                                 Traceback (most recent call last)",
      "Cell \u001b[1;32mIn[133], line 1\u001b[0m\n\u001b[1;32m----> 1\u001b[0m my_dict \u001b[38;5;241m=\u001b[39m \u001b[38;5;28mdict\u001b[39m(name\u001b[38;5;241m=\u001b[39m\u001b[38;5;124m\"\u001b[39m\u001b[38;5;124mAlice\u001b[39m\u001b[38;5;124m\"\u001b[39m, age\u001b[38;5;241m=\u001b[39m\u001b[38;5;241m30\u001b[39m, city\u001b[38;5;241m=\u001b[39m\u001b[38;5;124m\"\u001b[39m\u001b[38;5;124mNew York\u001b[39m\u001b[38;5;124m\"\u001b[39m)\n\u001b[0;32m      3\u001b[0m \u001b[38;5;28mprint\u001b[39m(my_dict)\n",
      "\u001b[1;31mTypeError\u001b[0m: 'dict' object is not callable"
     ]
    }
   ],
   "source": [
    "my_dict = dict(name=\"Alice\", age=30, city=\"New York\")\n",
    "\n",
    "print(my_dict)\n"
   ]
  },
  {
   "cell_type": "code",
   "execution_count": 149,
   "id": "cdc99f73-6f1b-45ad-87a0-e2b475171d4d",
   "metadata": {},
   "outputs": [
    {
     "name": "stdout",
     "output_type": "stream",
     "text": [
      "{'child1': {'name': 'John', 'age': 10}, 'child2': {'name': 'Smith', 'age': 7}, 'child3': {'name': 'Harry', 'age': 5}}\n"
     ]
    }
   ],
   "source": [
    "#Iterating over the dictionary\n",
    "mydict = {'name': 'Ajay', 'roll': 1, 'course': 'DS', 'city': 'mumbai', 'color': 'red'}\n",
    "'''for x in mydict:\n",
    "    print(x,'->',mydict[x])'''\n",
    "\n",
    "'''for key,values in mydict.items():\n",
    "    print(key,' - >',values)\n",
    "'''\n",
    "\n",
    "#Nested dictionary\n",
    "child1={\n",
    "    \"name\":\"John\",\n",
    "    \"age\":10\n",
    "}\n",
    "\n",
    "child2={\n",
    "    \"name\":\"Smith\",\n",
    "    \"age\":7\n",
    "}\n",
    "\n",
    "child3={\n",
    "    \"name\":\"Harry\",\n",
    "    \"age\":5\n",
    "}\n",
    "\n",
    "family = {\n",
    "    \"child1\":child1,\n",
    "    \"child2\":child2,\n",
    "    \"child3\":child3\n",
    "}\n",
    "\n",
    "print(family)"
   ]
  },
  {
   "cell_type": "code",
   "execution_count": 27,
   "id": "9bc3f8c3-0a92-4273-a3ca-6f56070a491f",
   "metadata": {},
   "outputs": [
    {
     "name": "stdin",
     "output_type": "stream",
     "text": [
      "Enter lower case  red\n"
     ]
    },
    {
     "name": "stdout",
     "output_type": "stream",
     "text": [
      "RED\n"
     ]
    }
   ],
   "source": [
    "color = input('Enter lower case ')\n",
    "color = color.upper()\n",
    "print(color)"
   ]
  },
  {
   "cell_type": "code",
   "execution_count": 33,
   "id": "aad1fb1a-d0fa-473a-8a13-48e627cb9f53",
   "metadata": {},
   "outputs": [
    {
     "name": "stdin",
     "output_type": "stream",
     "text": [
      "Enter grade 100\n"
     ]
    }
   ],
   "source": [
    "grade = int(input(\"Enter grade\"))"
   ]
  },
  {
   "cell_type": "code",
   "execution_count": 115,
   "id": "319e7ac4-2062-4631-b659-221d454c97d7",
   "metadata": {},
   "outputs": [
    {
     "name": "stdin",
     "output_type": "stream",
     "text": [
      "Enter number of lines :  5\n"
     ]
    },
    {
     "name": "stdout",
     "output_type": "stream",
     "text": [
      "1\n",
      "22\n",
      "333\n",
      "4444\n",
      "55555\n"
     ]
    }
   ],
   "source": [
    "n=int(input(\"Enter number of lines : \"))\n",
    "for i in range (n):\n",
    "    for j in range (0,i+1):\n",
    "        print(i+1,end='')\n",
    "    print()"
   ]
  },
  {
   "cell_type": "code",
   "execution_count": 117,
   "id": "6c58be79-2fb8-4a4d-9a36-b4499d794082",
   "metadata": {},
   "outputs": [
    {
     "name": "stdin",
     "output_type": "stream",
     "text": [
      "Enter number of lines :  5\n"
     ]
    },
    {
     "name": "stdout",
     "output_type": "stream",
     "text": [
      "*\n",
      "**\n",
      "***\n",
      "****\n",
      "*****\n",
      "******\n"
     ]
    }
   ],
   "source": [
    "# * pattern\n",
    "n=int(input(\"Enter number of lines : \"))\n",
    "for i in range (n+1):\n",
    "    for j in range (0,i+1):\n",
    "        print('*',end='')\n",
    "    print()\n"
   ]
  },
  {
   "cell_type": "code",
   "execution_count": 127,
   "id": "007a1ef1-7681-4ca7-8fee-206bd5bdd2d8",
   "metadata": {},
   "outputs": [
    {
     "name": "stdout",
     "output_type": "stream",
     "text": [
      "1\n",
      "12\n",
      "123\n",
      "1234\n",
      "12345\n"
     ]
    }
   ],
   "source": [
    "'''\n",
    "1\n",
    "12\n",
    "123\n",
    "1234\n",
    "12345\n",
    "'''\n",
    "\n",
    "for i in range(1,n+1):\n",
    "    for j in range(1,i+1):\n",
    "        print(j,end=\"\")\n",
    "    print()"
   ]
  },
  {
   "cell_type": "code",
   "execution_count": 139,
   "id": "a17ff5ba-5ea6-4e2f-856a-4172379cafef",
   "metadata": {},
   "outputs": [
    {
     "name": "stdin",
     "output_type": "stream",
     "text": [
      "Enter n :  5\n"
     ]
    },
    {
     "name": "stdout",
     "output_type": "stream",
     "text": [
      "i= 2 j= 1\n",
      "i= 2 j= 2\n",
      "i= 3 j= 1\n",
      "i= 3 j= 2\n",
      "i= 3 j= 3\n",
      "i= 3 j= 4\n",
      "i= 4 j= 1\n",
      "i= 4 j= 2\n",
      "i= 4 j= 3\n",
      "i= 4 j= 4\n",
      "i= 4 j= 5\n",
      "i= 4 j= 6\n",
      "i= 5 j= 1\n",
      "i= 5 j= 2\n",
      "i= 5 j= 3\n",
      "i= 5 j= 4\n",
      "i= 5 j= 5\n",
      "i= 5 j= 6\n",
      "i= 5 j= 7\n",
      "i= 5 j= 8\n"
     ]
    }
   ],
   "source": [
    "'''\n",
    "  1     \n",
    " 135    \n",
    "13579    \n",
    "'''\n",
    "\n",
    "        "
   ]
  },
  {
   "cell_type": "code",
   "execution_count": 153,
   "id": "2a4d52eb-ef4b-4dcf-a06a-c679dcff632e",
   "metadata": {},
   "outputs": [
    {
     "name": "stdout",
     "output_type": "stream",
     "text": [
      "[1, 2, 3, 4, 5, 6, 7]\n",
      "[1, 2, 3, 4, 5, 6]\n",
      "21\n"
     ]
    }
   ],
   "source": [
    "#List\n",
    "list1 = [1,2,3,4,5]\n",
    "list1.append(6)\n",
    "list1.append(7)\n",
    "print(list1)\n",
    "\n",
    "#remove the last number  -> pop() method\n",
    "list1.pop()\n",
    "print(list1)\n",
    "\n",
    "#sum of all numbers in the list\n",
    "sum=0\n",
    "for x in list1:\n",
    "    sum+=x\n",
    "print(sum)"
   ]
  },
  {
   "cell_type": "code",
   "execution_count": 163,
   "id": "cec72458-8deb-40e5-82d2-809ec306cb03",
   "metadata": {},
   "outputs": [
    {
     "name": "stdout",
     "output_type": "stream",
     "text": [
      "('red', 'orange', 'blue')\n",
      "red\n",
      "orange\n",
      "blue\n",
      "[(38.8977, -77.0365), (48.8566, 2.352), (35.682839, 139.759455)]\n"
     ]
    },
    {
     "data": {
      "text/plain": [
       "[('The United States', (38.8977, -77.0365)),\n",
       " ('France', (48.8566, 2.352)),\n",
       " ('Japan', (35.682839, 139.759455))]"
      ]
     },
     "execution_count": 163,
     "metadata": {},
     "output_type": "execute_result"
    }
   ],
   "source": [
    "#tuple\n",
    "tuple1=('red','orange','blue')\n",
    "print(tuple1)\n",
    "for color in tuple1:\n",
    "    print(color)\n",
    "\n",
    "#creating a list of tuple - The United States (38.8977, -77.0365), France (48.8566, 2.3522) and Japan (35.682839, 139.759455)\n",
    "countries = ['The United States','France','Japan']\n",
    "coordinates = [(38.8977, -77.0365),(48.8566, 2.352),(35.682839, 139.759455)]\n",
    "print(coordinates)\n",
    "list(zip(countries,coordinates))"
   ]
  },
  {
   "cell_type": "code",
   "execution_count": 174,
   "id": "f9e82378-3756-42ae-b640-8bc901e23a6a",
   "metadata": {},
   "outputs": [
    {
     "name": "stdout",
     "output_type": "stream",
     "text": [
      "Original :  {'title': 'Wings of Fire', 'author': 'Dr Kalam', 'year': 2004}\n",
      "title  ->  Wings of Fire\n",
      "author  ->  Dr Kalam\n",
      "year  ->  2006\n",
      "genre  ->  autobiography\n"
     ]
    }
   ],
   "source": [
    "#Dictionary\n",
    "book = {\n",
    "    \"title\":\"Wings of Fire\",\n",
    "    \"author\":\"Dr Kalam\",\n",
    "    \"year\":2004\n",
    "}\n",
    "\n",
    "print(\"Original : \",book)\n",
    "book[\"year\"]=2006\n",
    "#print(\"After updating year : \", book)\n",
    "book[\"genre\"]=\"autobiography\"\n",
    "for key,value in book.items():\n",
    "    print(key,' -> ',value)\n"
   ]
  },
  {
   "cell_type": "code",
   "execution_count": null,
   "id": "06ba90b9-53e9-46f2-a388-9491e531652e",
   "metadata": {},
   "outputs": [],
   "source": []
  },
  {
   "cell_type": "code",
   "execution_count": null,
   "id": "23b8e0c7-c931-4010-8b85-78cc72030f3d",
   "metadata": {},
   "outputs": [],
   "source": []
  }
 ],
 "metadata": {
  "kernelspec": {
   "display_name": "Python 3 (ipykernel)",
   "language": "python",
   "name": "python3"
  },
  "language_info": {
   "codemirror_mode": {
    "name": "ipython",
    "version": 3
   },
   "file_extension": ".py",
   "mimetype": "text/x-python",
   "name": "python",
   "nbconvert_exporter": "python",
   "pygments_lexer": "ipython3",
   "version": "3.12.4"
  }
 },
 "nbformat": 4,
 "nbformat_minor": 5
}
